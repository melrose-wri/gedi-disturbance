{
 "cells": [
  {
   "cell_type": "code",
   "execution_count": 1,
   "id": "initial_id",
   "metadata": {},
   "outputs": [],
   "source": [
    "import pandas as pd\n",
    "from tempfile import TemporaryDirectory\n",
    "from pathlib import Path\n",
    "import requests\n",
    "import logging\n",
    "import boto3\n",
    "from botocore.exceptions import ClientError\n",
    "import os"
   ]
  },
  {
   "cell_type": "markdown",
   "id": "c87b69598eee27c6",
   "metadata": {
    "collapsed": false,
    "jupyter": {
     "outputs_hidden": false
    }
   },
   "source": [
    "Constants"
   ]
  },
  {
   "cell_type": "code",
   "execution_count": 2,
   "id": "b143d7a986cdf00c",
   "metadata": {
    "collapsed": false,
    "is_executing": true,
    "jupyter": {
     "outputs_hidden": false
    }
   },
   "outputs": [],
   "source": [
    "gedi_shot_location_url = 'https://www.cl.cam.ac.uk/research/eeg/4c/data/europe_coincident_shots_locations/'\n",
    "gedi_shot_data_url = 'https://www.cl.cam.ac.uk/research/eeg/4c/data/europe_coincident_shots_data/'\n",
    "\n",
    "s3_bucket = 'gfw2-data'\n",
    "gedi_shot_location_s3_dir = 'climate/European_height_carbon_model/gedi_coincident_shot/data/shots/europe_coincident_shots_locations/'\n",
    "gedi_shot_data_s3_dir = 'climate/European_height_carbon_model/gedi_coincident_shot/data/shots/europe_coincident_shots_data/'"
   ]
  },
  {
   "cell_type": "markdown",
   "id": "405939c521178fe8",
   "metadata": {
    "collapsed": false,
    "jupyter": {
     "outputs_hidden": false
    }
   },
   "source": [
    "Functions"
   ]
  },
  {
   "cell_type": "code",
   "execution_count": 3,
   "id": "646035a780e57d11",
   "metadata": {
    "collapsed": false,
    "jupyter": {
     "outputs_hidden": false
    }
   },
   "outputs": [],
   "source": [
    "def download_file(url, local_filename):\n",
    "    with requests.get(url, stream=True) as r:\n",
    "        r.raise_for_status()\n",
    "        with open(local_filename, 'wb') as f:\n",
    "            for chunk in r.iter_content(chunk_size=8192):\n",
    "                f.write(chunk)\n",
    "    return local_filename\n",
    "\n",
    "def upload_file(file_name, bucket, object_name=None):\n",
    "    \"\"\"This does not work with the newest version of boto3. You need to install conda-forge::boto3=1.34.33. Changes:\n",
    "    ca-certificates    conda-forge::ca-certificates-2024.2.2~ --> pkgs/main::ca-certificates-2023.12.12-h06a4308_0\n",
    "    certifi            conda-forge/noarch::certifi-2024.2.2-~ --> pkgs/main/linux-64::certifi-2024.2.2-py38h06a4308_0\n",
    "    urllib3            conda-forge/noarch::urllib3-2.2.0-pyh~ --> pkgs/main/linux-64::urllib3-1.26.18-py38h06a4308_0\n",
    "    Documentation for this known issue found here: https://github.com/conda-forge/awscli-feedstock/issues/828\n",
    "    \"\"\"\n",
    "\n",
    "    # If S3 object_name was not specified, use file_name\n",
    "    if object_name is None:\n",
    "        object_name = os.path.basename(file_name)\n",
    "\n",
    "    # Upload the file\n",
    "    s3_client = boto3.client('s3')\n",
    "    try:\n",
    "        response = s3_client.upload_file(file_name, bucket, object_name)\n",
    "    except ClientError as e:\n",
    "        logging.error(e)\n",
    "        return False\n",
    "    return True"
   ]
  },
  {
   "cell_type": "markdown",
   "id": "fa4a98eb-815f-4f1a-b4b7-e6f6face246e",
   "metadata": {},
   "source": [
    "Get Download URLs"
   ]
  },
  {
   "cell_type": "code",
   "execution_count": 6,
   "id": "6b6df4b8e8426a1a",
   "metadata": {
    "collapsed": false,
    "jupyter": {
     "outputs_hidden": false
    }
   },
   "outputs": [],
   "source": [
    "#Get urls for all gedi shot locations\n",
    "location_table = pd.read_html(gedi_shot_location_url)[0]\n",
    "location_urls = location_table.Name[3:1598].to_list() #Skipping parent dir, success, and na rows\n",
    "\n",
    "#Get urls for all gedi shot data\n",
    "data_table = pd.read_html(gedi_shot_data_url)[0]\n",
    "#data_urls = data_table.Name[3:203] #Skipping parent dir, success, and na rows\n",
    "data_urls = data_table.Name[131:203] #Skipping parent dir, success, and na rows\n",
    "\n",
    "#Get s3 client \n",
    "s3 = boto3.client('s3')"
   ]
  },
  {
   "cell_type": "markdown",
   "id": "3afc71574a8deb6d",
   "metadata": {
    "collapsed": false,
    "jupyter": {
     "outputs_hidden": false
    }
   },
   "source": [
    "Download GEDI Shot Locations"
   ]
  },
  {
   "cell_type": "code",
   "execution_count": 5,
   "id": "12d4f539799accff",
   "metadata": {
    "collapsed": false,
    "jupyter": {
     "outputs_hidden": false
    }
   },
   "outputs": [
    {
     "name": "stdout",
     "output_type": "stream",
     "text": [
      "1595\n"
     ]
    }
   ],
   "source": [
    "#Create temp dir, download gedi shot location files, and upload to s3\n",
    "with TemporaryDirectory() as location_temp_dir:\n",
    "    for filename in location_urls:\n",
    "        file_url = f\"{gedi_shot_location_url}{filename}\"\n",
    "        local_path = str(Path(location_temp_dir)/filename)\n",
    "        s3_path = str(Path(gedi_shot_location_s3_dir)/filename)\n",
    "        download_file(file_url, local_path)\n",
    "        s3.upload_file(local_path, s3_bucket, s3_path)\n",
    "\n",
    "    print(len(list(Path(location_temp_dir).glob('*.parquet'))))"
   ]
  },
  {
   "cell_type": "markdown",
   "id": "c54e03202f58ede0",
   "metadata": {
    "collapsed": false,
    "jupyter": {
     "outputs_hidden": false
    }
   },
   "source": [
    "Download GEDI Shot Data"
   ]
  },
  {
   "cell_type": "code",
   "execution_count": 7,
   "id": "8e8b422b28d06864",
   "metadata": {
    "collapsed": false,
    "jupyter": {
     "outputs_hidden": false
    }
   },
   "outputs": [
    {
     "name": "stdout",
     "output_type": "stream",
     "text": [
      "72\n"
     ]
    }
   ],
   "source": [
    "#Create temp dir, download gedi shot data files, and upload to s3\n",
    "with TemporaryDirectory() as data_temp_dir:\n",
    "    for filename in data_urls:\n",
    "        file_url = f\"{gedi_shot_data_url}{filename}\"\n",
    "        local_path = str(Path(data_temp_dir)/filename)\n",
    "        s3_path = str(Path(gedi_shot_data_s3_dir)/filename)\n",
    "        download_file(file_url, local_path)\n",
    "        s3.upload_file(local_path, s3_bucket, s3_path)\n",
    "\n",
    "    print(len(list(Path(data_temp_dir).glob('*.parquet'))))"
   ]
  },
  {
   "cell_type": "raw",
   "id": "eaf2e229-9189-4ccb-95e6-89461512c269",
   "metadata": {},
   "source": [
    "print(local_path)"
   ]
  }
 ],
 "metadata": {
  "kernelspec": {
   "display_name": "Python 3 (ipykernel)",
   "language": "python",
   "name": "python3"
  },
  "language_info": {
   "codemirror_mode": {
    "name": "ipython",
    "version": 3
   },
   "file_extension": ".py",
   "mimetype": "text/x-python",
   "name": "python",
   "nbconvert_exporter": "python",
   "pygments_lexer": "ipython3",
   "version": "3.8.18"
  }
 },
 "nbformat": 4,
 "nbformat_minor": 5
}
